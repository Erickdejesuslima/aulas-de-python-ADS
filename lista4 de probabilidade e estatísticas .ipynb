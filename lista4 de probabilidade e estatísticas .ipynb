{
  "nbformat": 4,
  "nbformat_minor": 0,
  "metadata": {
    "colab": {
      "name": "Untitled6.ipynb",
      "provenance": [],
      "collapsed_sections": [],
      "authorship_tag": "ABX9TyPx4g2NsqPTftzZSCiY4jHm",
      "include_colab_link": true
    },
    "kernelspec": {
      "name": "python3",
      "display_name": "Python 3"
    }
  },
  "cells": [
    {
      "cell_type": "markdown",
      "metadata": {
        "id": "view-in-github",
        "colab_type": "text"
      },
      "source": [
        "<a href=\"https://colab.research.google.com/github/Erickdejesuslima/aulas-de-python-ADS/blob/master/lista4%20de%20probabilidade%20e%20estat%C3%ADsticas%20.ipynb\" target=\"_parent\"><img src=\"https://colab.research.google.com/assets/colab-badge.svg\" alt=\"Open In Colab\"/></a>"
      ]
    },
    {
      "cell_type": "code",
      "metadata": {
        "colab": {
          "base_uri": "https://localhost:8080/",
          "height": 129
        },
        "id": "3QlS0WC0KROE",
        "outputId": "f61ebae7-726b-4afc-828b-0e636c745f69"
      },
      "source": [
        "\n",
        "#Disciplina Probabilidade e Estatística\n",
        "\n",
        "#Aluno: Erick de Jesus Lima\n",
        "\n",
        "#Lista 4\n",
        "\n",
        "#questão 1\n",
        "'''lados = int(input(\"Insira o número de lados: \"))\n",
        "\n",
        "if lados == 3:\n",
        "    medida = input(\"insira a medida dos lados em cm: \")\n",
        "    area =(lados ** 2 * 3 ** (1/2))/4\n",
        "    print(\"TRIÂNGULO e a área é de: \", area, \"cm²\" )\n",
        "\n",
        "elif lados == 4:\n",
        "    medida = input(\"insira a medida dos lados em cm: \")\n",
        "    area =(lados ** 2)\n",
        "    print(\"QUADRADO e a área é de: \", area, \"cm²\" )\n",
        "    \n",
        "\n",
        "elif lados == 5:\n",
        "  print(\"PENTÁGONO\")\n",
        "#----------------//----------------------------------------\n",
        "#questão 2\n",
        "\n",
        "elif lados < 3: \n",
        "   print(\"NÃO É UM POLÍGONO\")\n",
        "\n",
        "else:\n",
        "  print(\"POLÍGONO NÃO IDENTIFICADO\")'''\n",
        "\n",
        "#-------------------------------//--------------------------\n",
        "#questão 3\n",
        "\n",
        "'''numero1 = int(input(\"insira o valor do 1º número: \"))\n",
        "\n",
        "numero2 = int(input(\"insira o valor do 2º número: \"))\n",
        "\n",
        "numero3 = int(input(\"insira o valor do 3º número: \"))\n",
        "\n",
        "if numero1 > numero2 and numero1 >  numero3:\n",
        "  print(\"O maior número é o \",numero1)\n",
        "\n",
        "elif numero2 > numero1 and numero2 > numero3:\n",
        "  print(\"O maior número é o \",numero2)\n",
        "\n",
        "elif  numero3 >  numero1 and numero3 > numero2:\n",
        "  print(\"O maior número é o \",numero3)\n",
        "\n",
        "else:\n",
        "  print(\"Não pode haver números repetidos\")'''\n",
        "\n",
        "#---------------------------------------------------//-----------------\n",
        "#questão 4\n",
        "'''\n",
        "lado1 = float(input(\"insira a medida do lado direito em cm: \"))\n",
        "lado2 = float(input(\"insira a medida do lado esquerdo em cm: \"))\n",
        "lado3 = float(input(\"insira a medida da base em cm: \"))\n",
        "\n",
        "if lado1 == lado2 and lado2 == lado3 and lado1 == lado3:\n",
        "  print(\"Equilátero\")\n",
        "\n",
        "elif lado1 == lado2 or lado2 == lado3 or lado1 == lado3: \n",
        "  print(\"Isóscele\")\n",
        "\n",
        "elif lado1 != lado2 and lado2 != lado3 and lado1 != lado3: \n",
        "  print(\"Escaleno\")'''\n",
        "\n",
        "#-----------------------------------------------//--------------------\n",
        "#questão 5\n",
        "\n",
        "\n",
        "\n",
        "\n",
        "\n",
        "\n",
        "\n",
        "\n",
        "\n",
        "\n",
        "\n",
        "\n",
        "\n",
        "\n",
        "\n",
        "\n",
        "\n",
        "#-----------------------------------------------//--------------------\n",
        "#questão 6\n",
        "\n",
        "\n"
      ],
      "execution_count": 61,
      "outputs": [
        {
          "output_type": "error",
          "ename": "SyntaxError",
          "evalue": "ignored",
          "traceback": [
            "\u001b[0;36m  File \u001b[0;32m\"<ipython-input-61-a664ec8dd70b>\"\u001b[0;36m, line \u001b[0;32m93\u001b[0m\n\u001b[0;31m    for lista in range(num1)\u001b[0m\n\u001b[0m                            ^\u001b[0m\n\u001b[0;31mSyntaxError\u001b[0m\u001b[0;31m:\u001b[0m invalid syntax\n"
          ]
        }
      ]
    },
    {
      "cell_type": "code",
      "metadata": {
        "id": "_ih9_Bu3POqH"
      },
      "source": [
        ""
      ],
      "execution_count": 56,
      "outputs": []
    }
  ]
}