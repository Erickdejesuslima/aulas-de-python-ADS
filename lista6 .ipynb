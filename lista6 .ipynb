{
  "nbformat": 4,
  "nbformat_minor": 0,
  "metadata": {
    "colab": {
      "name": "Untitled9.ipynb",
      "provenance": [],
      "collapsed_sections": [],
      "authorship_tag": "ABX9TyOz/enPnb2zxKTrA9+e/FKL",
      "include_colab_link": true
    },
    "kernelspec": {
      "name": "python3",
      "display_name": "Python 3"
    }
  },
  "cells": [
    {
      "cell_type": "markdown",
      "metadata": {
        "id": "view-in-github",
        "colab_type": "text"
      },
      "source": [
        "<a href=\"https://colab.research.google.com/github/Erickdejesuslima/aulas-de-python-ADS/blob/master/lista7%20incompleta.ipynb\" target=\"_parent\"><img src=\"https://colab.research.google.com/assets/colab-badge.svg\" alt=\"Open In Colab\"/></a>"
      ]
    },
    {
      "cell_type": "code",
      "metadata": {
        "id": "L6CTBiKS1a7D"
      },
      "source": [
        "#Disciplina Probabilidade e Estatística\n",
        "\n",
        "#Aluno: Erick de Jesus Lima\n",
        "\n",
        "#Lista 6\n",
        "\n",
        "#-------------------------------------------------------------------------------\n",
        "#Questão 1\n",
        "\n",
        "import pandas as pd\n",
        "import seaborn as sn\n",
        "import matplotlib.pyplot as plt\n",
        "'''\n",
        "data = {'matemática':[60, 58, 73, 51, 54, 75, 48, 72, 75, 83, 62, 52], \n",
        "     'música':[80, 62, 70, 83, 62, 90, 48, 72, 75, 83, 62, 52]}\n",
        "\n",
        "df = pd.DataFrame(data,columns = ['matemática', 'música']) \n",
        "Correl = df.corr()\n",
        "print(Correl)\n",
        "sn.heatmap(Correl,  annot=True)\n",
        "plt.show() \n",
        "'''\n",
        "#-------------------------------------------------------------------------------\n",
        "#Questão 2\n",
        "\n",
        "\n",
        "\n",
        "\n",
        "\n",
        "\n",
        "\n",
        "\n",
        "\n",
        "\n",
        "\n",
        "\n",
        "\n",
        "\n",
        "#-------------------------------------------------------------------------------\n",
        "#questão 3\n",
        "'''\n",
        "data = {'anos':[2, 3, 4, 5, 4, 6, 7, 8, 8, 10], \n",
        "     'clientes':[48, 50, 56, 52, 43, 60, 62, 58, 64, 72,]}\n",
        "\n",
        "df = pd.DataFrame(data,columns = ['clientes', 'anos']) \n",
        "Correl = df.corr()\n",
        "print(Correl)\n",
        "sn.heatmap(Correl,  annot=True)\n",
        "plt.show() \n",
        "'''\n",
        "#-------------------------------------------------------------------------------\n",
        "#questão 4\n",
        "'''\n",
        "data = {'x':[12, 16, 18, 20, 28, 30, 40, 48, 50, 54], \n",
        "     'y':[7.2, 7.4, 7.0, 6.5, 6.6, 6.7, 6.0, 5.6, 6.0, 5.5]}\n",
        "\n",
        "df = pd.DataFrame(data,columns = ['x', 'y']) \n",
        "Correl = df.corr()\n",
        "print(Correl)\n",
        "sn.heatmap(Correl,  annot=True)\n",
        "plt.show()\n",
        "'''\n",
        "#-------------------------------------------------------------------------------\n",
        "\n",
        "\n"
      ],
      "execution_count": null,
      "outputs": []
    },
    {
      "cell_type": "code",
      "metadata": {
        "id": "QnsRGfXp-uTh"
      },
      "source": [
        ""
      ],
      "execution_count": null,
      "outputs": []
    }
  ]
}
