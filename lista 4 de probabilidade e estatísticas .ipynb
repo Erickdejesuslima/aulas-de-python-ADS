{
  "nbformat": 4,
  "nbformat_minor": 0,
  "metadata": {
    "colab": {
      "name": "Untitled6.ipynb",
      "provenance": [],
      "collapsed_sections": [],
      "authorship_tag": "ABX9TyMihByajoRaKsCLcMZx7YAY",
      "include_colab_link": true
    },
    "kernelspec": {
      "name": "python3",
      "display_name": "Python 3"
    }
  },
  "cells": [
    {
      "cell_type": "markdown",
      "metadata": {
        "id": "view-in-github",
        "colab_type": "text"
      },
      "source": [
        "<a href=\"https://colab.research.google.com/github/Erickdejesuslima/aulas-de-python-ADS/blob/master/lista%204%20de%20probabilidade%20e%20estat%C3%ADsticas%20.ipynb\" target=\"_parent\"><img src=\"https://colab.research.google.com/assets/colab-badge.svg\" alt=\"Open In Colab\"/></a>"
      ]
    },
    {
      "cell_type": "code",
      "metadata": {
        "colab": {
          "base_uri": "https://localhost:8080/"
        },
        "id": "3QlS0WC0KROE",
        "outputId": "754a4dba-884e-4ab4-a8d8-1b9bc874e66e"
      },
      "source": [
        "\n",
        "#Disciplina Probabilidade e Estatística\n",
        "\n",
        "#Aluno: Erick de Jesus Lima\n",
        "\n",
        "#Lista 4\n",
        "\n",
        "#questão 1\n",
        "'''lados = int(input(\"Insira o número de lados: \"))\n",
        "\n",
        "if lados == 3:\n",
        "    medida = input(\"insira a medida dos lados em cm: \")\n",
        "    area =(lados ** 2 * 3 ** (1/2))/4\n",
        "    print(\"TRIÂNGULO e a área é de: \", area, \"cm²\" )\n",
        "\n",
        "elif lados == 4:\n",
        "    medida = input(\"insira a medida dos lados em cm: \")\n",
        "    area =(lados ** 2)\n",
        "    print(\"QUADRADO e a área é de: \", area, \"cm²\" )\n",
        "    \n",
        "\n",
        "elif lados == 5:\n",
        "  print(\"PENTÁGONO\")\n",
        "#----------------//----------------------------------------\n",
        "#questão 2\n",
        "\n",
        "elif lados < 3: \n",
        "   print(\"NÃO É UM POLÍGONO\")\n",
        "\n",
        "else:\n",
        "  print(\"POLÍGONO NÃO IDENTIFICADO\")'''\n",
        "\n",
        "#-------------------------------//--------------------------\n",
        "#questão 3\n",
        "\n",
        "'''numero1 = int(input(\"insira o valor do 1º número: \"))\n",
        "\n",
        "numero2 = int(input(\"insira o valor do 2º número: \"))\n",
        "\n",
        "numero3 = int(input(\"insira o valor do 3º número: \"))\n",
        "\n",
        "if numero1 > numero2 and numero1 >  numero3:\n",
        "  print(\"O maior número é o \",numero1)\n",
        "\n",
        "elif numero2 > numero1 and numero2 > numero3:\n",
        "  print(\"O maior número é o \",numero2)\n",
        "\n",
        "elif  numero3 >  numero1 and numero3 > numero2:\n",
        "  print(\"O maior número é o \",numero3)\n",
        "\n",
        "else:\n",
        "  print(\"Não pode haver números repetidos\")'''\n",
        "\n",
        "#---------------------------------------------------//-----------------\n",
        "#questão 4\n",
        "'''\n",
        "lado1 = float(input(\"insira a medida do lado direito em cm: \"))\n",
        "lado2 = float(input(\"insira a medida do lado esquerdo em cm: \"))\n",
        "lado3 = float(input(\"insira a medida da base em cm: \"))\n",
        "\n",
        "if lado1 == lado2 and lado2 == lado3 and lado1 == lado3:\n",
        "  print(\"Equilátero\")\n",
        "\n",
        "elif lado1 == lado2 or lado2 == lado3 or lado1 == lado3: \n",
        "  print(\"Isóscele\")\n",
        "\n",
        "elif lado1 != lado2 and lado2 != lado3 and lado1 != lado3: \n",
        "  print(\"Escaleno\")'''\n",
        "\n",
        "#-----------------------------------------------//--------------------\n",
        "#questão 5\n",
        "\n",
        "\n",
        "\n",
        "\n",
        "\n",
        "\n",
        "\n",
        "\n",
        "\n",
        "\n",
        "\n",
        "\n",
        "\n",
        "\n",
        "\n",
        "\n",
        "\n",
        "#-----------------------------------------------//--------------------\n",
        "#questão 6\n",
        "\n",
        "num1 = int(input('Entre com um número: '))\n",
        "for lista in range(num1):\n",
        "    print(lista)\n",
        "\n",
        "\n"
      ],
      "execution_count": 63,
      "outputs": [
        {
          "output_type": "stream",
          "text": [
            "Entre com um número: 5\n",
            "0\n",
            "1\n",
            "2\n",
            "3\n",
            "4\n"
          ],
          "name": "stdout"
        }
      ]
    },
    {
      "cell_type": "code",
      "metadata": {
        "id": "_ih9_Bu3POqH"
      },
      "source": [
        ""
      ],
      "execution_count": 56,
      "outputs": []
    }
  ]
}